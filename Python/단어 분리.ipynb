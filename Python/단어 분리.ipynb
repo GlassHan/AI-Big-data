{
 "cells": [
  {
   "cell_type": "code",
   "execution_count": 318,
   "metadata": {},
   "outputs": [
    {
     "name": "stdout",
     "output_type": "stream",
     "text": [
      "['There', 'was', 'a', 'farmer', 'who', 'had', 'a', 'dog']\n",
      "['There was', 'was a', 'a farmer', 'farmer who', 'who had', 'had a', 'a dog', 'dog']\n"
     ]
    }
   ],
   "source": [
    "def tokenize(trg, N=1):\n",
    "    if N==1:\n",
    "        return trg.split()\n",
    "    elif N==2:\n",
    "        \n",
    "        t=trg.split()\n",
    "        x=len(t)-1\n",
    "        p=[]        for i in range(x):\n",
    "                p.append(t[i]+\" \"+t[i+1])\n",
    "        p.append(t[-1])   \n",
    "        return p \n",
    "    elif N==3:\n",
    "        t=trg.split()\n",
    "        x=len(t)-2\n",
    "        p=[]\n",
    "        for i in range(x):\n",
    "                p.append(t[i]+\" \"+t[i+1]+\" \"+t[i+2])\n",
    "        p.append(t[-1])   \n",
    "        return p  \n",
    "    elif N==4:\n",
    "        t=trg.split()\n",
    "        x=len(t)-3\n",
    "        p=[]\n",
    "        for i in range(x):\n",
    "                p.append(t[i]+\" \"+t[i+1]+\" \"+t[i+2]+\" \"+t[i+3])\n",
    "        p.append(t[-1])   \n",
    "        return p \n",
    "    elif N==5:\n",
    "        t=trg.split()\n",
    "        x=len(t)-4\n",
    "        p=[]\n",
    "        for i in range(x):\n",
    "                p.append(t[i]+\" \"+t[i+1]+\" \"+t[i+2]+\" \"+t[i+3]+\" \"+t[i+4])\n",
    "        p.append(t[-1])   \n",
    "        return p \n",
    "    \n",
    "   \n",
    "    \n",
    "def main():\n",
    "    a='There was a farmer who had a dog'\n",
    "    print(tokenize(a))\n",
    "    print(tokenize(a,2))\n",
    "if __name__=='__main__':\n",
    "     main()    \n",
    "    "
   ]
  },
  {
   "cell_type": "code",
   "execution_count": null,
   "metadata": {},
   "outputs": [],
   "source": []
  },
  {
   "cell_type": "code",
   "execution_count": 321,
   "metadata": {},
   "outputs": [
    {
     "name": "stdout",
     "output_type": "stream",
     "text": [
      "[['There'], ['was'], ['a'], ['farmer'], ['who'], ['had'], ['a']]\n",
      "[['There', 'was'], ['was', 'a'], ['a', 'farmer'], ['farmer', 'who'], ['who', 'had'], ['had', 'a'], ['a', 'dog']]\n"
     ]
    }
   ],
   "source": [
    "def tokenize(trg, N=1): \n",
    "    t=trg.split()\n",
    "    x=len(t)-1\n",
    "    p=[]\n",
    "    a=[t[i:i+N] for i in range(x)]\n",
    "    p=(a)\n",
    "    return p \n",
    "\n",
    "def main():\n",
    "    a='There was a farmer who had a dog'\n",
    "    print(tokenize(a))\n",
    "    print(tokenize(a,2))\n",
    "if __name__=='__main__':\n",
    "     main()    \n",
    "        \n",
    "        \n",
    "        \n",
    "     \n"
   ]
  },
  {
   "cell_type": "code",
   "execution_count": null,
   "metadata": {},
   "outputs": [],
   "source": [
    "\n",
    "    "
   ]
  },
  {
   "cell_type": "code",
   "execution_count": null,
   "metadata": {},
   "outputs": [],
   "source": []
  },
  {
   "cell_type": "code",
   "execution_count": null,
   "metadata": {},
   "outputs": [],
   "source": [
    "\n"
   ]
  },
  {
   "cell_type": "code",
   "execution_count": null,
   "metadata": {},
   "outputs": [],
   "source": []
  },
  {
   "cell_type": "code",
   "execution_count": null,
   "metadata": {},
   "outputs": [],
   "source": []
  }
 ],
 "metadata": {
  "kernelspec": {
   "display_name": "Python 3 (ipykernel)",
   "language": "python",
   "name": "python3"
  },
  "language_info": {
   "codemirror_mode": {
    "name": "ipython",
    "version": 3
   },
   "file_extension": ".py",
   "mimetype": "text/x-python",
   "name": "python",
   "nbconvert_exporter": "python",
   "pygments_lexer": "ipython3",
   "version": "3.9.13"
  }
 },
 "nbformat": 4,
 "nbformat_minor": 2
}
