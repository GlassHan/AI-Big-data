{
 "cells": [
  {
   "cell_type": "code",
   "execution_count": 75,
   "metadata": {
    "scrolled": true
   },
   "outputs": [
    {
     "name": "stdout",
     "output_type": "stream",
     "text": [
      "{20180001: ['Hong Gildong ', '84 ', '73'], 20180002: ['Lee Jieun ', '92 ', '89'], 20180007: ['Kim Cheolsu  ', '57 ', '62'], 20180009: ['Lee Yeonghee ', '81 ', '84', '20180011 ', 'Ha Donghun   ', '58', '68']}\n"
     ]
    }
   ],
   "source": [
    "import sys\n",
    "try:\n",
    "    f=open(sys.argv[1],'r')\n",
    "    fl=[]\n",
    "    for i in f:\n",
    "         for x in i:\n",
    "            fl.append(x)\n",
    "    f.close()\n",
    "    print(fl)\n",
    "except:\n",
    "    f=open('students.txt','r')\n",
    "    lines=f.readlines()\n",
    "    f.close()\n",
    "    s=[]\n",
    "    for line in lines:\n",
    "        line=line.strip()\n",
    "        items=line.split('\\t')\n",
    "        s+=items\n",
    "   \n",
    "    \n",
    "    student={}\n",
    "    student[int(s[0])]=s[1:4]\n",
    "    student[int(s[4])]=s[5:8]\n",
    "    student[int(s[8])]=s[9:12]\n",
    "    student[int(s[12])]=s[13:]\n",
    "   \n",
    "    print(student)\n",
    "    \n",
    "#     for i in student:\n",
    "      \n",
    "    \n",
    "   "
   ]
  },
  {
   "cell_type": "code",
   "execution_count": null,
   "metadata": {},
   "outputs": [],
   "source": [
    "f=open('students.txt','r')\n",
    "    fl=[]\n",
    "    f1=[]\n",
    "    for i in f:\n",
    "        s=i.split(\"\\t\")\n",
    "        s[3]=s[3].replace('\\n','')\n",
    "        fl+=s\n",
    "   \n",
    "    f1.append(fl[:4])\n",
    "    f1.append(fl[4:8])\n",
    "    f1.append(fl[8:12])\n",
    "    f1.append(fl[12:16])\n",
    "    f1.append(fl[16:])\n",
    "    print(f1)\n",
    "    \n",
    "    key=[]\n",
    "    for i in f1:\n",
    "        key.append(i[0])\n",
    "    print(key)\n",
    "    \n",
    "    v=[1,2,3,4,5]\n",
    "    \n",
    "    stu_dict={'key[]':v}\n",
    "    print(stu_dict)\n",
    "    f.close()"
   ]
  },
  {
   "cell_type": "code",
   "execution_count": null,
   "metadata": {},
   "outputs": [],
   "source": []
  }
 ],
 "metadata": {
  "kernelspec": {
   "display_name": "Python 3 (ipykernel)",
   "language": "python",
   "name": "python3"
  },
  "language_info": {
   "codemirror_mode": {
    "name": "ipython",
    "version": 3
   },
   "file_extension": ".py",
   "mimetype": "text/x-python",
   "name": "python",
   "nbconvert_exporter": "python",
   "pygments_lexer": "ipython3",
   "version": "3.9.13"
  }
 },
 "nbformat": 4,
 "nbformat_minor": 2
}
