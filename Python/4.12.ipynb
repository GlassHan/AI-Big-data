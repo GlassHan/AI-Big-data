{
 "cells": [
  {
   "cell_type": "code",
   "execution_count": 43,
   "metadata": {},
   "outputs": [
    {
     "name": "stdout",
     "output_type": "stream",
     "text": [
      "400\n",
      "1100\n"
     ]
    }
   ],
   "source": [
    "class Account:\n",
    "    # 계좌의 속성(Attribute)\n",
    "    number = 'OOOO-OOO-OOOOOO'\n",
    "    balance = 0\n",
    "    rate = 1.0\n",
    "    num_acc=0\n",
    "    \n",
    "    def __init__(self, num='OOO-OOO-OOOOO', amnt=0, rate=1.0):\n",
    "        self.number = num\n",
    "        self.balance = amnt\n",
    "        self.rate = rate\n",
    "        Account.num_acc += 1\n",
    "    # 계좌의 기능(Method)\n",
    "    def deposit(self, money): #입금\n",
    "        self.balance += money\n",
    "    def withdraw(self, money): #인출\n",
    "        self.balance -= money\n",
    "    def obtain_interest(self): #이자 획득\n",
    "        self.balance += self.balance*(self.rate/100)\n",
    "    def __add__(self, another): #두 계좌 통합 기능\n",
    "        new_acc=Account(amnt=self.balance+another.balance,rate=self.rate)\n",
    "        return new_acc\n",
    "    def set_balance(self,money):\n",
    "        self.balance = money\n",
    "    def transfer(self,another,money):\n",
    "        self.balance=self.balance-money\n",
    "        another.balance=another.balance+money\n",
    "    def get_balance(self):\n",
    "        return self.balance\n",
    "\n",
    "class MinBalanceAccount(Account): #Account 클래스를 상속받음\n",
    "    \n",
    "    def __init__(self,min_balance, num='OOO-OOO-OOOOO', amnt=0, rate=1.0):\n",
    "        self.min_balance = min_balance\n",
    "        self.bonus_rate = 1.0\n",
    "        \n",
    "    def withdraw(self, amnt): # 인출 기능 수정\n",
    "        if self.balance - amnt < self.minimum_balance:\n",
    "            print('Sorry, minimum balance must be maintained')\n",
    "        else:\n",
    "            Account.withdraw(self, amnt)\n",
    "    def obtain_interest(self): #보너스 이율 반영\n",
    "        self.balance += (self.balance)*((self.rate+self.bonus_rate)/100.0)\n",
    "   \n",
    "\n",
    "        \n",
    "        \n",
    "        \n",
    "acc1 = MinBalanceAccount(min_balance=0)\n",
    "acc1.set_balance(500)\n",
    "acc2= MinBalanceAccount(min_balance=0)\n",
    "acc2.set_balance(1000)\n",
    "acc1.transfer(acc2, 100)\n",
    "\n",
    " #메소드\n",
    "\n",
    "print(acc1.get_balance()) # 400\n",
    "print(acc2.get_balance())\n",
    "\n"
   ]
  },
  {
   "cell_type": "code",
   "execution_count": null,
   "metadata": {},
   "outputs": [],
   "source": []
  }
 ],
 "metadata": {
  "kernelspec": {
   "display_name": "Python 3",
   "language": "python",
   "name": "python3"
  },
  "language_info": {
   "codemirror_mode": {
    "name": "ipython",
    "version": 3
   },
   "file_extension": ".py",
   "mimetype": "text/x-python",
   "name": "python",
   "nbconvert_exporter": "python",
   "pygments_lexer": "ipython3",
   "version": "3.7.3"
  }
 },
 "nbformat": 4,
 "nbformat_minor": 2
}
