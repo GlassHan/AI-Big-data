{
 "cells": [
  {
   "cell_type": "code",
   "execution_count": 3,
   "metadata": {},
   "outputs": [
    {
     "name": "stdout",
     "output_type": "stream",
     "text": [
      "<class 'numpy.ndarray'>\n",
      "(3,)\n",
      "1 2 3\n",
      "[5 2 3]\n",
      "(2, 3)\n",
      "1 2 4\n"
     ]
    }
   ],
   "source": [
    "import numpy as np\n",
    "\n",
    "a=np.array([1,2,3])\n",
    "print(type(a))\n",
    "print(a.shape)\n",
    "print(a[0],a[1],a[2])\n",
    "a[0]=5\n",
    "print(a)\n",
    "\n",
    "b=np.array([[1,2,3],[4,5,6]])\n",
    "print(b.shape)\n",
    "print(b[0,0],b[0,1],b[1,0])"
   ]
  },
  {
   "cell_type": "code",
   "execution_count": 8,
   "metadata": {},
   "outputs": [
    {
     "name": "stdout",
     "output_type": "stream",
     "text": [
      "[[0. 0.]\n",
      " [0. 0.]] \n",
      "\n",
      "[[1. 1.]] \n",
      "\n",
      "[[7 7]\n",
      " [7 7]] \n",
      "\n",
      "[[1. 0.]\n",
      " [0. 1.]] \n",
      "\n",
      "[[0.66968481 0.51092795]\n",
      " [0.82834578 0.90368009]] \n",
      "\n"
     ]
    }
   ],
   "source": [
    "a=np.zeros((2,2))\n",
    "print(a,'\\n')\n",
    "\n",
    "b=np.ones((1,2))\n",
    "print(b,'\\n')\n",
    "\n",
    "c=np.full((2,2),7)\n",
    "print(c,'\\n')\n",
    "\n",
    "d=np.eye(2)\n",
    "print(d,'\\n')\n",
    "\n",
    "e=np.random.random((2,2))\n",
    "print(e,'\\n')"
   ]
  },
  {
   "cell_type": "code",
   "execution_count": 13,
   "metadata": {},
   "outputs": [
    {
     "name": "stdout",
     "output_type": "stream",
     "text": [
      "[[ 1  2  3  4]\n",
      " [ 5  6  7  8]\n",
      " [ 9 10 11 12]] \n",
      "\n",
      "[[2 3]\n",
      " [6 7]] \n",
      "\n",
      "2\n",
      "77\n"
     ]
    }
   ],
   "source": [
    "a=np.array([[1,2,3,4],[5,6,7,8],[9,10,11,12]])\n",
    "print(a,'\\n')\n",
    "b=a[:2,1:3]\n",
    "print(b,'\\n')\n",
    "\n",
    "print(a[0,1])\n",
    "b[0,0]=77\n",
    "print(a[0,1])"
   ]
  },
  {
   "cell_type": "code",
   "execution_count": 19,
   "metadata": {},
   "outputs": [
    {
     "name": "stdout",
     "output_type": "stream",
     "text": [
      "[5 6 7 8] (4,) \n",
      "\n",
      "[[5 6 7 8]] (1, 4) \n",
      "\n",
      "[77  6 10] (3,) \n",
      "\n",
      "[[77]\n",
      " [ 6]\n",
      " [10]] (3, 1) \n",
      "\n"
     ]
    }
   ],
   "source": [
    "row_r1=a[1,:]\n",
    "row_r2=a[1:2,:]\n",
    "\n",
    "print(row_r1,row_r1.shape,'\\n')\n",
    "print(row_r2,row_r2.shape,'\\n')\n",
    "\n",
    "col_r1=a[:,1]\n",
    "col_r2=a[:,1:2]\n",
    "print(col_r1, col_r1.shape,'\\n')\n",
    "print(col_r2, col_r2.shape,'\\n')"
   ]
  },
  {
   "cell_type": "code",
   "execution_count": 22,
   "metadata": {},
   "outputs": [
    {
     "name": "stdout",
     "output_type": "stream",
     "text": [
      "[[1 2]\n",
      " [3 4]\n",
      " [5 6]] \n",
      "\n",
      "<class 'numpy.ndarray'> \n",
      "\n",
      "<class 'numpy.ndarray'> \n",
      "\n",
      "[2 2] \n",
      "\n",
      "[2 2] \n",
      "\n"
     ]
    }
   ],
   "source": [
    "a = np.array([[1, 2], [3, 4], [5, 6]])\n",
    "print(a,'\\n')\n",
    "# [1 4 5] 1차원 행렬(3,)을 얻는 두 가지 방법\n",
    "print(type(a[[0, 1, 2], [0, 1, 0]]),'\\n')\n",
    "print(type(np.array([a[0, 0], a[1, 1], a[2, 0]])),'\\n')\n",
    "# [2 2] 1차원 행렬(2,)을 얻는 두 가지 방법\n",
    "print(a[[0, 0], [1, 1]],'\\n')\n",
    "print(np.array([a[0, 1], a[0, 1]]),'\\n')"
   ]
  },
  {
   "cell_type": "code",
   "execution_count": 23,
   "metadata": {},
   "outputs": [
    {
     "name": "stdout",
     "output_type": "stream",
     "text": [
      "[[ 1  2  3]\n",
      " [ 4  5  6]\n",
      " [ 7  8  9]\n",
      " [10 11 12]] \n",
      "\n",
      "[ 1  6  7 11] \n",
      "\n",
      "[[11  2  3]\n",
      " [ 4  5 16]\n",
      " [17  8  9]\n",
      " [10 21 12]] \n",
      "\n"
     ]
    }
   ],
   "source": [
    "a=np.array([[1,2,3],[4,5,6],[7,8,9],[10,11,12]])\n",
    "print(a,'\\n')\n",
    "\n",
    "b=np.array([0,2,0,1])\n",
    "\n",
    "print(a[np.arange(4),b],'\\n')\n",
    "a[np.arange(4),b]+=10\n",
    "print(a,'\\n')\n"
   ]
  },
  {
   "cell_type": "code",
   "execution_count": 24,
   "metadata": {},
   "outputs": [
    {
     "name": "stdout",
     "output_type": "stream",
     "text": [
      "int64\n",
      "float64\n",
      "int64\n"
     ]
    }
   ],
   "source": [
    "x=np.array([1,2])\n",
    "print(x.dtype)\n",
    "\n",
    "x=np.array([1.0,2.0])\n",
    "print(x.dtype)\n",
    "\n",
    "x=np.array([1,2],dtype=np.int64)\n",
    "print(x.dtype)"
   ]
  },
  {
   "cell_type": "code",
   "execution_count": 26,
   "metadata": {},
   "outputs": [
    {
     "name": "stdout",
     "output_type": "stream",
     "text": [
      "[[ 6.  8.]\n",
      " [10. 12.]]\n",
      "[[ 6.  8.]\n",
      " [10. 12.]] \n",
      "\n",
      "[[-4. -4.]\n",
      " [-4. -4.]]\n",
      "[[-4. -4.]\n",
      " [-4. -4.]] \n",
      "\n",
      "[[ 5. 12.]\n",
      " [21. 32.]]\n",
      "[[ 5. 12.]\n",
      " [21. 32.]] \n",
      "\n",
      "[[0.2        0.33333333]\n",
      " [0.42857143 0.5       ]]\n",
      "[[0.2        0.33333333]\n",
      " [0.42857143 0.5       ]] \n",
      "\n",
      "[[1.         1.41421356]\n",
      " [1.73205081 2.        ]] \n",
      "\n"
     ]
    }
   ],
   "source": [
    "x=np.array([[1,2],[3,4]],dtype=np.float64)\n",
    "y=np.array([[5,6],[7,8]],dtype=np.float64)\n",
    "\n",
    "print(x+y)\n",
    "print(np.add(x,y),'\\n')\n",
    "\n",
    "print(x-y)\n",
    "print(np.subtract(x,y),'\\n')\n",
    "\n",
    "print(x*y)\n",
    "print(np.multiply(x,y),'\\n')\n",
    "\n",
    "print(x/y)\n",
    "print(np.divide(x,y),'\\n')\n",
    "\n",
    "print(np.sqrt(x),'\\n')"
   ]
  },
  {
   "cell_type": "code",
   "execution_count": 30,
   "metadata": {},
   "outputs": [
    {
     "name": "stdout",
     "output_type": "stream",
     "text": [
      "219 \n",
      "\n",
      "219 \n",
      "\n",
      "[29 67] \n",
      "\n",
      "[29 67] \n",
      "\n",
      "[[19 22]\n",
      " [43 50]] \n",
      "\n",
      "[[19 22]\n",
      " [43 50]] \n",
      "\n",
      "[[ 9 10]] \n",
      "\n"
     ]
    }
   ],
   "source": [
    "x=np.array([[1,2],[3,4]])\n",
    "y=np.array([[5,6],[7,8]])\n",
    "\n",
    "v=np.array([9,10])\n",
    "w=np.array([11,12])\n",
    "\n",
    "print(v.dot(w),'\\n')\n",
    "print(np.dot(v,w),'\\n')\n",
    "\n",
    "print(x.dot(v),'\\n')\n",
    "print(np.dot(x,v),'\\n')\n",
    "\n",
    "print(x.dot(y),'\\n')\n",
    "print(np.dot(x,y),'\\n')\n",
    "\n",
    "v2=np.reshape(v,(1,v.shape[0]))\n",
    "print(v2,'\\n')"
   ]
  },
  {
   "cell_type": "code",
   "execution_count": 61,
   "metadata": {},
   "outputs": [
    {
     "name": "stdout",
     "output_type": "stream",
     "text": [
      "10\n",
      "[4 6]\n",
      "[3 7]\n"
     ]
    }
   ],
   "source": [
    "x=np.array([[1,2],[3,4]])\n",
    "\n",
    "print(np.sum(x))\n",
    "print(np.sum(x,axis=0))\n",
    "print(np.sum(x,axis=1))\n"
   ]
  },
  {
   "cell_type": "code",
   "execution_count": 33,
   "metadata": {},
   "outputs": [
    {
     "name": "stdout",
     "output_type": "stream",
     "text": [
      "[[1 2]\n",
      " [3 4]]\n",
      "[[1 3]\n",
      " [2 4]]\n",
      "[1 2 3]\n",
      "[1 2 3]\n"
     ]
    }
   ],
   "source": [
    "x=np.array([[1,2],[3,4]])\n",
    "\n",
    "print(x)\n",
    "print(x.T)\n",
    "\n",
    "v=np.array([1,2,3])\n",
    "print(v)\n",
    "print(v.T)"
   ]
  },
  {
   "cell_type": "code",
   "execution_count": 40,
   "metadata": {},
   "outputs": [
    {
     "name": "stdout",
     "output_type": "stream",
     "text": [
      "4\n",
      "[[ 1  2  3]\n",
      " [ 4  5  6]\n",
      " [ 7  8  9]\n",
      " [10 11 12]] \n",
      "\n",
      "[1 0 1] \n",
      "\n",
      "[[ 2  2  4]\n",
      " [ 5  5  7]\n",
      " [ 8  8 10]\n",
      " [11 11 13]]\n"
     ]
    }
   ],
   "source": [
    "x = np.array([[1,2,3], [4,5,6], [7,8,9], [10,11,12]])\n",
    "v = np.array([1,0,1])\n",
    "print(x.shape[0])\n",
    "\n",
    "print(x,'\\n')\n",
    "print(v,'\\n')\n",
    "y = np.empty_like(x) \n",
    "for i in range(4):\n",
    "    y[i, :] = x[i, :] + v\n",
    "\n",
    "print(y)"
   ]
  },
  {
   "cell_type": "code",
   "execution_count": 47,
   "metadata": {},
   "outputs": [
    {
     "name": "stdout",
     "output_type": "stream",
     "text": [
      "[1 0 1] \n",
      "\n",
      "[[1 0 1]\n",
      " [1 0 1]\n",
      " [1 0 1]\n",
      " [1 0 1]] \n",
      "\n",
      "[[ 2  2  4]\n",
      " [ 5  5  7]\n",
      " [ 8  8 10]\n",
      " [11 11 13]] \n",
      "\n"
     ]
    }
   ],
   "source": [
    "vv = np.tile(v, (4, 1))\n",
    "print(v,'\\n')\n",
    "print(vv,'\\n')\n",
    "y = x + vv\n",
    "print(y,'\\n')"
   ]
  },
  {
   "cell_type": "code",
   "execution_count": 53,
   "metadata": {},
   "outputs": [
    {
     "name": "stdout",
     "output_type": "stream",
     "text": [
      "[[ 1  2  3]\n",
      " [ 4  5  6]\n",
      " [ 7  8  9]\n",
      " [10 11 12]] \n",
      "\n",
      "[[ 1  4  7 10]\n",
      " [ 2  5  8 11]\n",
      " [ 3  6  9 12]] \n",
      "\n",
      "[[1]\n",
      " [0]\n",
      " [1]] \n",
      "\n",
      "[[ 2  5  8 11]\n",
      " [ 2  5  8 11]\n",
      " [ 4  7 10 13]]\n"
     ]
    }
   ],
   "source": [
    "x = np.array([[1,2,3], [4,5,6], [7,8,9], [10,11,12]])\n",
    "c=x.T\n",
    "print(x,'\\n')\n",
    "print(c,'\\n')\n",
    "v = np.array([1,0,1]).reshape((3,1))\n",
    "print(v,'\\n')\n",
    "y = c + v0\n",
    "print(y)"
   ]
  },
  {
   "cell_type": "code",
   "execution_count": 62,
   "metadata": {},
   "outputs": [
    {
     "name": "stdout",
     "output_type": "stream",
     "text": [
      "[[1 1]\n",
      " [2 1]] \n",
      " [[15]\n",
      " [25]] \n",
      "\n",
      "[[10.]\n",
      " [ 5.]]\n"
     ]
    }
   ],
   "source": [
    "x=np.array([[1,1],[2,1]])\n",
    "y=np.array([[15],[25]])\n",
    "print(x,'\\n',y,'\\n')\n",
    "x2=numpy.linalg.inv(x)\n",
    "print(np.dot(x2,y))"
   ]
  },
  {
   "cell_type": "code",
   "execution_count": 67,
   "metadata": {},
   "outputs": [],
   "source": [
    "import pickle\n",
    "fw=open('ffe.p','wb')\n",
    "pickle.dump([{'df':'ff', 'dfdf0':'dfdf'},[1,2,3,4]],fw)\n",
    "fw.close()"
   ]
  },
  {
   "cell_type": "code",
   "execution_count": 69,
   "metadata": {},
   "outputs": [
    {
     "ename": "EOFError",
     "evalue": "Ran out of input",
     "output_type": "error",
     "traceback": [
      "\u001b[0;31m---------------------------------------------------------------------------\u001b[0m",
      "\u001b[0;31mEOFError\u001b[0m                                  Traceback (most recent call last)",
      "\u001b[0;32m<ipython-input-69-884cd73f5336>\u001b[0m in \u001b[0;36m<module>\u001b[0;34m\u001b[0m\n\u001b[1;32m      1\u001b[0m \u001b[0mfr\u001b[0m\u001b[0;34m=\u001b[0m\u001b[0mopen\u001b[0m\u001b[0;34m(\u001b[0m\u001b[0;34m'ffe.p'\u001b[0m\u001b[0;34m,\u001b[0m\u001b[0;34m'rb'\u001b[0m\u001b[0;34m)\u001b[0m\u001b[0;34m\u001b[0m\u001b[0;34m\u001b[0m\u001b[0m\n\u001b[1;32m      2\u001b[0m \u001b[0mpickle\u001b[0m\u001b[0;34m.\u001b[0m\u001b[0mload\u001b[0m\u001b[0;34m(\u001b[0m\u001b[0mfr\u001b[0m\u001b[0;34m)\u001b[0m\u001b[0;34m\u001b[0m\u001b[0;34m\u001b[0m\u001b[0m\n\u001b[0;32m----> 3\u001b[0;31m \u001b[0mprint\u001b[0m\u001b[0;34m(\u001b[0m\u001b[0mpickle\u001b[0m\u001b[0;34m.\u001b[0m\u001b[0mload\u001b[0m\u001b[0;34m(\u001b[0m\u001b[0mfr\u001b[0m\u001b[0;34m)\u001b[0m\u001b[0;34m)\u001b[0m\u001b[0;34m\u001b[0m\u001b[0;34m\u001b[0m\u001b[0m\n\u001b[0m\u001b[1;32m      4\u001b[0m \u001b[0mfr\u001b[0m\u001b[0;34m.\u001b[0m\u001b[0mclose\u001b[0m\u001b[0;34m(\u001b[0m\u001b[0;34m)\u001b[0m\u001b[0;34m\u001b[0m\u001b[0;34m\u001b[0m\u001b[0m\n",
      "\u001b[0;31mEOFError\u001b[0m: Ran out of input"
     ]
    }
   ],
   "source": [
    "fr=open('ffe.p','rb')\n",
    "pickle.load(fr)\n",
    "print()\n",
    "fr.close()"
   ]
  },
  {
   "cell_type": "code",
   "execution_count": null,
   "metadata": {},
   "outputs": [],
   "source": []
  }
 ],
 "metadata": {
  "kernelspec": {
   "display_name": "Python 3",
   "language": "python",
   "name": "python3"
  },
  "language_info": {
   "codemirror_mode": {
    "name": "ipython",
    "version": 3
   },
   "file_extension": ".py",
   "mimetype": "text/x-python",
   "name": "python",
   "nbconvert_exporter": "python",
   "pygments_lexer": "ipython3",
   "version": "3.6.5"
  }
 },
 "nbformat": 4,
 "nbformat_minor": 2
}
