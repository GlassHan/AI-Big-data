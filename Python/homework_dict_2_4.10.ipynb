{
 "cells": [
  {
   "cell_type": "markdown",
   "metadata": {},
   "source": [
    "# dict\n",
    "## Q1"
   ]
  },
  {
   "cell_type": "code",
   "execution_count": 4,
   "metadata": {},
   "outputs": [
    {
     "name": "stdout",
     "output_type": "stream",
     "text": [
      "1\n",
      "2\n",
      "10\n"
     ]
    }
   ],
   "source": [
    "d = {'youn': 1, 'park': 2, 'kim': 10}\n",
    "for x in d.values():\n",
    "    print(x)"
   ]
  },
  {
   "cell_type": "markdown",
   "metadata": {},
   "source": [
    "# Q2"
   ]
  },
  {
   "cell_type": "code",
   "execution_count": 49,
   "metadata": {},
   "outputs": [
    {
     "name": "stdout",
     "output_type": "stream",
     "text": [
      "five 5\n",
      "four 4\n",
      "one 1\n",
      "three 3\n",
      "two 2\n"
     ]
    }
   ],
   "source": [
    "d = { 'one':1, 'two':2, 'three':3, 'four':4, 'five':5} \n",
    "for x in sorted(d.keys()):\n",
    "    print(x, d[x])\n"
   ]
  },
  {
   "cell_type": "markdown",
   "metadata": {},
   "source": [
    "# Q3"
   ]
  },
  {
   "cell_type": "code",
   "execution_count": 50,
   "metadata": {},
   "outputs": [
    {
     "name": "stdout",
     "output_type": "stream",
     "text": [
      "Enter a sentense:Python is fun!\n",
      "{'P': 1, 'y': 1, 't': 1, 'h': 1, 'o': 1, 'n': 2, ' ': 2, 'i': 1, 's': 1, 'f': 1, 'u': 1, '!': 1}\n"
     ]
    }
   ],
   "source": [
    "n=input('Enter a sentense:')\n",
    "d=dict()\n",
    "for key in n:\n",
    "    if key in d:\n",
    "        d[key] += 1\n",
    "    else:\n",
    "        d[key] = 1\n",
    "\n",
    "print(d)\n"
   ]
  },
  {
   "cell_type": "markdown",
   "metadata": {},
   "source": [
    "# 과제실습2 \n",
    "## Q12"
   ]
  },
  {
   "cell_type": "code",
   "execution_count": 51,
   "metadata": {},
   "outputs": [
    {
     "name": "stdout",
     "output_type": "stream",
     "text": [
      "enter:3159\n",
      "***\n",
      "*\n",
      "*****\n",
      "*********\n"
     ]
    }
   ],
   "source": [
    "num=input(\"enter:\")\n",
    "\n",
    "for ch in num:\n",
    "    for x in range(int(ch)):\n",
    "        print('*',end=\"\")\n",
    "    print()"
   ]
  },
  {
   "cell_type": "markdown",
   "metadata": {},
   "source": [
    "## Q13"
   ]
  },
  {
   "cell_type": "code",
   "execution_count": 72,
   "metadata": {},
   "outputs": [
    {
     "name": "stdout",
     "output_type": "stream",
     "text": [
      "Enter a number:7\n",
      "Enter a number:2\n",
      "Enter a number:9\n",
      "Enter a number:3\n",
      "Enter a number:5\n",
      "Enter a number:done\n",
      "['7', '2', '9', '3', '5']\n",
      "Average:5.2\n",
      " Maximum:9.0\n",
      " Minmum:2.0\n",
      "\n"
     ]
    }
   ],
   "source": [
    "n=input('Enter a number:')\n",
    "a=[]\n",
    "s=0\n",
    "while n != 'done':\n",
    "    s=int(n)+s\n",
    "    a.append(n)\n",
    "    n=input('Enter a number:')\n",
    "    \n",
    "\n",
    "map(float,a)\n",
    "print(a)\n",
    "m=float(max(a))\n",
    "mi=float(min(a))\n",
    "l=int(len(a))\n",
    "avg=float(s/l)\n",
    "print( 'Average:%0.1f\\n' %avg,\n",
    "      'Maximum:%0.1f\\n' %m ,\n",
    "      'Minmum:%0.1f\\n'%mi)"
   ]
  },
  {
   "cell_type": "code",
   "execution_count": null,
   "metadata": {},
   "outputs": [],
   "source": [
    "\n",
    "    "
   ]
  }
 ],
 "metadata": {
  "kernelspec": {
   "display_name": "Python 3",
   "language": "python",
   "name": "python3"
  },
  "language_info": {
   "codemirror_mode": {
    "name": "ipython",
    "version": 3
   },
   "file_extension": ".py",
   "mimetype": "text/x-python",
   "name": "python",
   "nbconvert_exporter": "python",
   "pygments_lexer": "ipython3",
   "version": "3.7.3"
  }
 },
 "nbformat": 4,
 "nbformat_minor": 2
}
