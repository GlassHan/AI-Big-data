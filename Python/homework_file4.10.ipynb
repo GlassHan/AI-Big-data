{
 "cells": [
  {
   "cell_type": "markdown",
   "metadata": {},
   "source": [
    "# File\n",
    "## Q1."
   ]
  },
  {
   "cell_type": "code",
   "execution_count": 36,
   "metadata": {},
   "outputs": [
    {
     "name": "stdout",
     "output_type": "stream",
     "text": [
      "{'first': 1, 'line': 3, 'second': 1, 'third': 1}\n",
      "third 1\n",
      "second 1\n",
      "line 3\n",
      "first 1\n"
     ]
    }
   ],
   "source": [
    "f=open('test.txt','r')\n",
    "dic={}\n",
    "for line in f:\n",
    "    line_list=line.split()\n",
    "    for word in line_list:\n",
    "        if word in dic:\n",
    "            dic[word]+=1\n",
    "        else:\n",
    "            dic[word]=1\n",
    "    \n",
    "f.close()\n",
    "\n",
    "print(dic)\n",
    "\n",
    "\n",
    "for x,y in sorted(dic.items(),reverse=True):\n",
    "    print(x,y)"
   ]
  },
  {
   "cell_type": "markdown",
   "metadata": {},
   "source": [
    "## Q4."
   ]
  },
  {
   "cell_type": "code",
   "execution_count": 1,
   "metadata": {
    "scrolled": true
   },
   "outputs": [
    {
     "ename": "FileNotFoundError",
     "evalue": "[Errno 2] No such file or directory: 'score.txt'",
     "output_type": "error",
     "traceback": [
      "\u001b[1;31m---------------------------------------------------------------------------\u001b[0m",
      "\u001b[1;31mFileNotFoundError\u001b[0m                         Traceback (most recent call last)",
      "\u001b[1;32m<ipython-input-1-c1cd51f95ae6>\u001b[0m in \u001b[0;36m<module>\u001b[1;34m()\u001b[0m\n\u001b[0;32m     18\u001b[0m \u001b[1;33m\u001b[0m\u001b[0m\n\u001b[0;32m     19\u001b[0m \u001b[1;33m\u001b[0m\u001b[0m\n\u001b[1;32m---> 20\u001b[1;33m \u001b[0mf\u001b[0m\u001b[1;33m=\u001b[0m\u001b[0mopen\u001b[0m\u001b[1;33m(\u001b[0m\u001b[1;34m'score.txt'\u001b[0m\u001b[1;33m,\u001b[0m\u001b[1;34m'r'\u001b[0m\u001b[1;33m)\u001b[0m\u001b[1;33m\u001b[0m\u001b[0m\n\u001b[0m\u001b[0;32m     21\u001b[0m \u001b[0mdata2\u001b[0m\u001b[1;33m=\u001b[0m\u001b[1;33m[\u001b[0m\u001b[1;33m]\u001b[0m\u001b[1;33m\u001b[0m\u001b[0m\n\u001b[0;32m     22\u001b[0m \u001b[1;32mwhile\u001b[0m \u001b[1;32mTrue\u001b[0m\u001b[1;33m:\u001b[0m\u001b[1;33m\u001b[0m\u001b[0m\n",
      "\u001b[1;31mFileNotFoundError\u001b[0m: [Errno 2] No such file or directory: 'score.txt'"
     ]
    }
   ],
   "source": [
    "\n",
    "def calc_average(a,b):\n",
    "    c=(a+b)/2\n",
    "    return c\n",
    "\n",
    "\n",
    "def calc_grade(a,b):\n",
    "    if calc_average(a,b)>=90:\n",
    "        return '(A)'\n",
    "    elif calc_average(a,b)>=80:\n",
    "        return '(B)'\n",
    "    elif calc_average(a,b)>=70:\n",
    "        return '(C)'\n",
    "    elif calc_average(a,b)>=60:\n",
    "        return '(D)'\n",
    "    else:\n",
    "        return '(F)'\n",
    "    \n",
    "\n",
    "f=open('score.txt','r')\n",
    "data2=[]\n",
    "while True:\n",
    "    line=f.readline()\n",
    "    if not line:\n",
    "        break\n",
    "    data=list(line.split())\n",
    "    data2.append(data)\n",
    "f.close()\n",
    "    \n",
    "    \n",
    "ff=open('report.txt','w')\n",
    "for i in data2:\n",
    "    num =''\n",
    "    num+= i[0]\n",
    "    mid =''\n",
    "    mid += i[1]\n",
    "    fin= ''\n",
    "    fin += i[2]\n",
    "    avg=calc_average(int(mid),int(fin))\n",
    "    grade=calc_grade(int(mid),int(fin))\n",
    "    \n",
    "    ff.write('%s %s %s %0.1f %s\\n'%(num, mid,fin,avg,grade))\n",
    "ff.close()"
   ]
  },
  {
   "cell_type": "code",
   "execution_count": 51,
   "metadata": {},
   "outputs": [],
   "source": []
  },
  {
   "cell_type": "code",
   "execution_count": 48,
   "metadata": {},
   "outputs": [
    {
     "data": {
      "text/plain": [
       "91.5"
      ]
     },
     "execution_count": 48,
     "metadata": {},
     "output_type": "execute_result"
    }
   ],
   "source": []
  },
  {
   "cell_type": "code",
   "execution_count": 53,
   "metadata": {},
   "outputs": [
    {
     "data": {
      "text/plain": [
       "'A'"
      ]
     },
     "execution_count": 53,
     "metadata": {},
     "output_type": "execute_result"
    }
   ],
   "source": []
  }
 ],
 "metadata": {
  "kernelspec": {
   "display_name": "Python 3",
   "language": "python",
   "name": "python3"
  },
  "language_info": {
   "codemirror_mode": {
    "name": "ipython",
    "version": 3
   },
   "file_extension": ".py",
   "mimetype": "text/x-python",
   "name": "python",
   "nbconvert_exporter": "python",
   "pygments_lexer": "ipython3",
   "version": "3.6.5"
  }
 },
 "nbformat": 4,
 "nbformat_minor": 2
}
