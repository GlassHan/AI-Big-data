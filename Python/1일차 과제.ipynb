{
 "cells": [
  {
   "cell_type": "markdown",
   "metadata": {},
   "source": [
    "# 과제 1번"
   ]
  },
  {
   "cell_type": "code",
   "execution_count": 194,
   "metadata": {},
   "outputs": [],
   "source": [
    "class Set:\n",
    "    c=[]\n",
    "    def __init__(self, member=[]):\n",
    "        self.member=member\n",
    "        for i in member:\n",
    "            if member.count(i)>1:\n",
    "                member.remove(i)\n",
    "        print(self.member)\n",
    "        \n",
    "    def __str__(self):\n",
    "        return str(self.member)\n",
    "       \n",
    "    def append(self, a):\n",
    "         if a in self.member:\n",
    "                print(self.member)\n",
    "         else:\n",
    "            self.member.append(a)\n",
    "            print(self.member)\n",
    "        \n",
    "    def delete(self,a):\n",
    "        for x in a.member:\n",
    "            if x in self.member:\n",
    "                self.member.remove(x)\n",
    "        print(self.member)\n",
    "        \n",
    "    def union(self,s2):\n",
    "        self.member+=s2\n",
    "        for i in self.member:\n",
    "            if self.member.count(i)>1:\n",
    "                self.member.remove(i)\n",
    "        print(self.member)\n",
    "        \n",
    "    def intersection(self,s2):\n",
    "        c = []\n",
    "        for x in self.member:\n",
    "            if x in s2:\n",
    "                c.append(x)\n",
    "                print(c)\n",
    "        return c\n",
    "    \n",
    "    def difference(self,s2):\n",
    "        for i in s2:\n",
    "            if i in self.member:\n",
    "                self.member.remove(i)\n",
    "        print(self.member)\n",
    "    \n",
    "    def __add__ (self,another):\n",
    "        if a in self.member:\n",
    "               return self\n",
    "        else:\n",
    "            self.union(another.member)\n",
    "            return self\n",
    "            \n",
    "    def __sub__ (self,another):\n",
    "        self.difference(another.member)\n",
    "        return self.member\n",
    "    \n",
    "    def __truediv__ (self,another):\n",
    "        self.member = self.intersection(another.member)\n",
    "        print(self.member)\n",
    "        return self.member\n",
    "    \n",
    "    \n",
    "        "
   ]
  },
  {
   "cell_type": "code",
   "execution_count": 197,
   "metadata": {},
   "outputs": [
    {
     "name": "stdout",
     "output_type": "stream",
     "text": [
      "[2, 3, 4]\n",
      "[4, 5, 6]\n",
      "[4]\n",
      "[4]\n",
      "[4]\n"
     ]
    }
   ],
   "source": [
    "a=Set([2,3,4])\n",
    "b=Set([4,5,6])\n",
    "c=a/b\n",
    "print(c)\n"
   ]
  },
  {
   "cell_type": "markdown",
   "metadata": {},
   "source": [
    "# 과제 2번"
   ]
  },
  {
   "cell_type": "code",
   "execution_count": 169,
   "metadata": {},
   "outputs": [],
   "source": [
    "class person:\n",
    "    name='LEE'\n",
    "    age=0\n",
    "    department='computer'\n",
    "    def __init__(self, name,age,department):\n",
    "        self.name=name\n",
    "        self.age=age\n",
    "        self.department=department\n",
    "    def get_name(self):\n",
    "        print(self.name)\n",
    "\n",
    "class student(person):\n",
    "    sid=int()\n",
    "    GPA=float()\n",
    "    advisor=''\n",
    "    def __init__(self,name,age,department,sid,GPA):\n",
    "        person.__init__(self,name=name,age=age,department=department)\n",
    "        self.sid=sid\n",
    "        self.GPA=GPA\n",
    "    def print_info(self):\n",
    "        print('제 이름은',self.name,'나이는',self.age,'학과는',self.department,\\\n",
    "              '지도교수님은',self.advisor,'입니다.')\n",
    "    def reg_advisor(self,c):\n",
    "        self.advisor=c.name\n",
    "        \n",
    "        \n",
    "class professor(person):\n",
    "    position=''\n",
    "    laboratory=''\n",
    "    student=[]\n",
    "    def __init__(self,name,age,department,position,laboratory):\n",
    "        person.__init__(self,name=name,age=age,department=department)\n",
    "        self.position=position\n",
    "        self.laboratory=laboratory\n",
    "        self.student=[]\n",
    "    def reg_student(self,s):\n",
    "        self.student.append(s.name)\n",
    "        \n",
    "    def print_info(self):\n",
    "        print('제 이름은',self.name,'나이는',self.age,'학과는',self.department,\\\n",
    "              '지도학생은',self.student,'입니다.')\n",
    "    "
   ]
  },
  {
   "cell_type": "code",
   "execution_count": 152,
   "metadata": {},
   "outputs": [
    {
     "name": "stdout",
     "output_type": "stream",
     "text": [
      "[1, 2, 3]\n",
      "[2, 3, 4]\n",
      "[1, 2, 3, <__main__.Set object at 0x0000026EA3C1BF60>]\n"
     ]
    }
   ],
   "source": [
    "a=Set([1,2,3])\n",
    "b=Set([2,3,4])\n",
    "\n",
    "c=a+b\n",
    "print(c)"
   ]
  },
  {
   "cell_type": "code",
   "execution_count": 170,
   "metadata": {},
   "outputs": [
    {
     "name": "stdout",
     "output_type": "stream",
     "text": [
      "제 이름은 kim 나이는 30 학과는 computer 지도교수님은 lee 입니다.\n",
      "제 이름은 lee 나이는 22 학과는 computer 지도교수님은 lee 입니다.\n",
      "제 이름은 lee 나이는 55 학과는 computer 지도학생은 ['lee', 'kim'] 입니다.\n"
     ]
    }
   ],
   "source": [
    "stu1=student('kim',30,'computer',20001234,4.5)\n",
    "stu2=student('lee',22,'computer',20101234,4.0)\n",
    "prof1=professor('lee',55,'computer','full','kle')\n",
    "\n",
    "stu1.reg_advisor(prof1)\n",
    "stu2.reg_advisor(prof1)\n",
    "prof1.reg_student(stu2)\n",
    "prof1.reg_student(stu1)\n",
    "\n",
    "stu1.print_info()\n",
    "stu2.print_info()\n",
    "prof1.print_info()"
   ]
  },
  {
   "cell_type": "markdown",
   "metadata": {},
   "source": [
    "# 과제 3번"
   ]
  },
  {
   "cell_type": "code",
   "execution_count": 144,
   "metadata": {},
   "outputs": [
    {
     "name": "stdout",
     "output_type": "stream",
     "text": [
      "0\n",
      "0\n",
      "0\n",
      "1\n"
     ]
    }
   ],
   "source": [
    "import numpy as np\n",
    "x1=np.array([0,0])\n",
    "x2=np.array([0,1])\n",
    "x3=np.array([1,0])\n",
    "x4=np.array([1,1])\n",
    "\n",
    "\n",
    "w=np.array([[0,0],[2,2]])\n",
    "b=np.array([3,0])\n",
    "\n",
    "\n",
    "def f(i):\n",
    "    return np.argmax(i)\n",
    " \n",
    "print(f(w.dot(x1)+b))\n",
    "print(f(w.dot(x2)+b))\n",
    "print(f(w.dot(x3)+b))\n",
    "print(f(w.dot(x4)+b))"
   ]
  },
  {
   "cell_type": "code",
   "execution_count": null,
   "metadata": {},
   "outputs": [],
   "source": []
  }
 ],
 "metadata": {
  "kernelspec": {
   "display_name": "Python 3 (ipykernel)",
   "language": "python",
   "name": "python3"
  },
  "language_info": {
   "codemirror_mode": {
    "name": "ipython",
    "version": 3
   },
   "file_extension": ".py",
   "mimetype": "text/x-python",
   "name": "python",
   "nbconvert_exporter": "python",
   "pygments_lexer": "ipython3",
   "version": "3.9.13"
  }
 },
 "nbformat": 4,
 "nbformat_minor": 2
}
